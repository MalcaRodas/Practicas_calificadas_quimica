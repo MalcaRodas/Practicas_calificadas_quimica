{
  "nbformat": 4,
  "nbformat_minor": 0,
  "metadata": {
    "colab": {
      "provenance": [],
      "include_colab_link": true
    },
    "kernelspec": {
      "name": "python3",
      "display_name": "Python 3"
    },
    "language_info": {
      "name": "python"
    },
    "widgets": {
      "application/vnd.jupyter.widget-state+json": {
        "d4691835f4474884829213796343340f": {
          "model_module": "faerun-notebook",
          "model_name": "SmilesDrawerModel",
          "model_module_version": "^0.1.5",
          "state": {
            "_dom_classes": [],
            "_model_module": "faerun-notebook",
            "_model_module_version": "^0.1.5",
            "_model_name": "SmilesDrawerModel",
            "_view_count": null,
            "_view_module": "faerun-notebook",
            "_view_module_version": "^0.1.5",
            "_view_name": "SmilesDrawerView",
            "background": "#1e1e1e",
            "border": true,
            "layout": "IPY_MODEL_35b7ce94b6e84d4c985918e50984dcd7",
            "options": {
              "scale": 1.25
            },
            "output": "svg",
            "theme": "dark",
            "value": [
              [
                "Rxn",
                "C(C1C(C(C(C(O1)O)O)O)O)O.O=O>>C(=O)=O.O"
              ]
            ]
          }
        },
        "35b7ce94b6e84d4c985918e50984dcd7": {
          "model_module": "@jupyter-widgets/base",
          "model_name": "LayoutModel",
          "model_module_version": "1.2.0",
          "state": {
            "_model_module": "@jupyter-widgets/base",
            "_model_module_version": "1.2.0",
            "_model_name": "LayoutModel",
            "_view_count": null,
            "_view_module": "@jupyter-widgets/base",
            "_view_module_version": "1.2.0",
            "_view_name": "LayoutView",
            "align_content": null,
            "align_items": null,
            "align_self": null,
            "border": null,
            "bottom": null,
            "display": null,
            "flex": null,
            "flex_flow": null,
            "grid_area": null,
            "grid_auto_columns": null,
            "grid_auto_flow": null,
            "grid_auto_rows": null,
            "grid_column": null,
            "grid_gap": null,
            "grid_row": null,
            "grid_template_areas": null,
            "grid_template_columns": null,
            "grid_template_rows": null,
            "height": null,
            "justify_content": null,
            "justify_items": null,
            "left": null,
            "margin": null,
            "max_height": null,
            "max_width": null,
            "min_height": null,
            "min_width": null,
            "object_fit": null,
            "object_position": null,
            "order": null,
            "overflow": null,
            "overflow_x": null,
            "overflow_y": null,
            "padding": null,
            "right": null,
            "top": null,
            "visibility": null,
            "width": null
          }
        }
      }
    }
  },
  "cells": [
    {
      "cell_type": "markdown",
      "metadata": {
        "id": "view-in-github",
        "colab_type": "text"
      },
      "source": [
        "<a href=\"https://colab.research.google.com/github/MalcaRodas/Practicas_calificadas_quimica/blob/main/PC_1_Quimica_UNMSM.ipynb\" target=\"_parent\"><img src=\"https://colab.research.google.com/assets/colab-badge.svg\" alt=\"Open In Colab\"/></a>"
      ]
    },
    {
      "cell_type": "markdown",
      "source": [
        "$$\\Large \\textit{UNMSM | Química}$$\n",
        "$$\\large \\textbf{PC Nº1 | Materia y clasificación}$$\n",
        "\n",
        "_Profesor: Jesus Alvarado Huayhuaz_"
      ],
      "metadata": {
        "id": "sDJAjbaQOj4x"
      }
    },
    {
      "cell_type": "markdown",
      "source": [
        "Todas las indicaciones para la presentación de la práctica son explicadas en clase y brindadas en el material de enunciado de preguntas en formato PDF."
      ],
      "metadata": {
        "id": "_DsTzWLoP7Fy"
      }
    },
    {
      "cell_type": "markdown",
      "source": [
        "## Pregunta 1: Sobre el ABC de python (4 puntos)"
      ],
      "metadata": {
        "id": "obD7c2igOD6t"
      }
    },
    {
      "cell_type": "markdown",
      "source": [
        "Durante la semana de revisión del material \"ABC de python\", reflexiona sobre qué conceptos aprendiste con claridad y cuáles consideras los más desafiantes. A continuación resuelve los siguiente ejercicios, puedes ayudarte del material en http://bit.ly/3YKICSZ."
      ],
      "metadata": {
        "id": "emt93S7dL7QH"
      }
    },
    {
      "cell_type": "code",
      "source": [
        "# ej a) Imprime la versión de python que usas y las palabras reservadas de python para esa versión\n",
        "import sys\n",
        "import keyword\n",
        "\n",
        "# Imprimimos la versión de Python con print\n",
        "print(\"Versión de Python:\", sys.version)\n",
        "\n",
        "# Obtenemos las palabras reservadas para la versión actual de Python\n",
        "version_actual = sys.version_info\n",
        "palabras_reservadas = keyword.kwlist\n",
        "\n",
        "# Imprimimos las palabras reservadas con print\n",
        "print(\"\\nPalabras reservadas en Python\", version_actual.major, \".\", version_actual.minor, \":\")\n",
        "for palabra in palabras_reservadas:\n",
        "    print(palabra)\n",
        "\n"
      ],
      "metadata": {
        "id": "6mJvqMN0LTU8"
      },
      "execution_count": null,
      "outputs": []
    },
    {
      "cell_type": "code",
      "source": [
        "# ej b) Guarda como variable la masa atómica de los elementos C, H y O, e imprime la masa molecular del etanol.\n",
        "# Definimos las masas atómicas de los elementos C, H y O en unidades de masa atómica (u)\n",
        "masa_C = 12.01\n",
        "masa_H = 1.01\n",
        "masa_O = 16\n",
        "\n",
        "# Definimos la fórmula del etanol (C2H5OH) y formulamos su masa molecular\n",
        "num_atomos_C = 2\n",
        "num_atomos_H = 6\n",
        "num_atomos_O = 1\n",
        "\n",
        "masa_molecular_etanol = (num_atomos_C * masa_C) + (num_atomos_H * masa_H) + (num_atomos_O * masa_O)\n",
        "\n",
        "# Imprimimos la masa molecular del etanol\n",
        "print(\"La masa molecular del etanol (C2H5OH) es:\", masa_molecular_etanol, \"u\")\n"
      ],
      "metadata": {
        "id": "MyhNX7JmLTSe",
        "colab": {
          "base_uri": "https://localhost:8080/"
        },
        "outputId": "116a97cc-906e-4291-e021-66892b4b471a"
      },
      "execution_count": 5,
      "outputs": [
        {
          "output_type": "stream",
          "name": "stdout",
          "text": [
            "La masa molecular del etanol (C2H5OH) es: 46.08 u\n"
          ]
        }
      ]
    },
    {
      "cell_type": "code",
      "source": [
        "# ej d) Crea una matriz de 3x3 e imprime la suma de los elementos en su diagonal (traza)\n",
        "# Importamos la biblioteca NumPy para trabajar con matrices\n",
        "import numpy as np\n",
        "\n",
        "# Creamos una matriz aleatoria 3x3\n",
        "matriz = np.array([[11, 2, 3],\n",
        "                   [6, 5, 24],\n",
        "                   [23, 8, 2]])\n",
        "\n",
        "# Calculamos la suma de los elementos en la diagonal (traza)\n",
        "suma_diagonal = np.trace(matriz)\n",
        "\n",
        "# Imprimimos la matriz y la suma de su diagonal\n",
        "print(\"Matriz:\")\n",
        "print(matriz)\n",
        "print(\"Suma de la diagonal (traza):\", suma_diagonal)\n",
        "\n"
      ],
      "metadata": {
        "id": "MxDzGypdLTXh"
      },
      "execution_count": null,
      "outputs": []
    },
    {
      "cell_type": "code",
      "source": [
        "# ej c) Busca la temperatura de fusión en Celsius de 5 metales y guárdalos en una lista. Imprime las temperaturas en Kelvin\n",
        "# Definimos la lista de metales y sus temperaturas de fusión en Celsius\n",
        "metales = [\"Hierro\", \"Aluminio\", \"Plomo\", \"Plata\", \"Oro\"]\n",
        "temperaturas_celsius = [1538, 660, 327.5, 961.8, 1064]\n",
        "\n",
        "# Convierte las temperaturas de Celsius a Kelvin\n",
        "temperaturas_kelvin = [temp + 273 for temp in temperaturas_celsius]\n",
        "\n",
        "# Imprime las temperaturas en Kelvin junto con los nombres de los metales\n",
        "for metal, temperatura_c, temperatura_k in zip(metales, temperaturas_celsius, temperaturas_kelvin):\n",
        "    print(f\"La temperatura de fusión de {metal} es {temperatura_c}°C, que es igual a {temperatura_k} K.\")\n"
      ],
      "metadata": {
        "id": "NCOnJ0FwgLLc",
        "colab": {
          "base_uri": "https://localhost:8080/"
        },
        "outputId": "eae96f43-a7ff-4dd8-c4f0-ca456eb0a9a6"
      },
      "execution_count": 6,
      "outputs": [
        {
          "output_type": "stream",
          "name": "stdout",
          "text": [
            "La temperatura de fusión de Hierro es 1538°C, que es igual a 1811 K.\n",
            "La temperatura de fusión de Aluminio es 660°C, que es igual a 933 K.\n",
            "La temperatura de fusión de Plomo es 327.5°C, que es igual a 600.5 K.\n",
            "La temperatura de fusión de Plata es 961.8°C, que es igual a 1234.8 K.\n",
            "La temperatura de fusión de Oro es 1064°C, que es igual a 1337 K.\n"
          ]
        }
      ]
    },
    {
      "cell_type": "markdown",
      "source": [
        "## Pregunta 2: Operaciones (4 puntos)"
      ],
      "metadata": {
        "id": "epzOadagLfPi"
      }
    },
    {
      "cell_type": "markdown",
      "source": [
        "Escribe un programa que lea repetidamente elementos químicos en español hasta que el usuario introduzca “fin”. Una vez se haya introducido “fin”, muestra por pantalla (o sea imprime) el total de elementos ingresados. Si el usuario introduce cualquier otra cosa que no sea un elemento químico, detecta su fallo usando try y except, muestra un mensaje de error y pasa al siguiente elemento."
      ],
      "metadata": {
        "id": "MbAEOGPsjOWZ"
      }
    },
    {
      "cell_type": "code",
      "source": [
        "# Lista de elementos químicos en español\n",
        "elementos_quimicos = [\"hidrogeno\", \"cobalto\", \"litio\", \"berilio\", \"boro\", \"carbono\", \"nitrogeno\", \"oxigeno\", \"kripton\", \"neon\"]\n",
        "\n",
        "# Inicializar contador de elementos ingresados\n",
        "total_elementos = 0\n",
        "\n",
        "while True:\n",
        "    # Solicitar entrada al usuario\n",
        "    entrada = input(\"Introduce un elemento químico en español o 'fin' para terminar: \").lower()\n",
        "\n",
        "    if entrada == \"fin\":\n",
        "        break  # Salir del bucle si se ingresa \"fin\"\n",
        "\n",
        "    try:\n",
        "        # Comprobar si la entrada es un elemento químico válido\n",
        "        if entrada in elementos_quimicos:\n",
        "            total_elementos += 1\n",
        "            print(f\"Elemento válido: {entrada}\")\n",
        "        else:\n",
        "            raise ValueError(\"Entrada no es un elemento químico válido\")\n",
        "    except ValueError as error:\n",
        "        print(f\"Error: {error}\")\n",
        "\n",
        "# Mostrar el total de elementos ingresados\n",
        "print(f\"Total de elementos químicos ingresados: {total_elementos}\")\n"
      ],
      "metadata": {
        "id": "gJGX0p5QLetj"
      },
      "execution_count": null,
      "outputs": []
    },
    {
      "cell_type": "markdown",
      "source": [
        "# Pregunta 3: Conservación de la masa (4 puntos)"
      ],
      "metadata": {
        "id": "8gxSHpD3LZsh"
      }
    },
    {
      "cell_type": "markdown",
      "source": [
        "### Código necesario para generar la imagen"
      ],
      "metadata": {
        "id": "mMV9c3hDl7KL"
      }
    },
    {
      "cell_type": "code",
      "source": [
        "!pip install faerun-notebook==0.1.5b0\n",
        "\n",
        "import ipywidgets as widgets\n",
        "from faerun_notebook import SmilesDrawer\n",
        "from google.colab import output\n",
        "output.enable_custom_widget_manager()"
      ],
      "metadata": {
        "id": "JgF8Ohtbky65"
      },
      "execution_count": null,
      "outputs": []
    },
    {
      "cell_type": "markdown",
      "source": [
        "### Reacción química"
      ],
      "metadata": {
        "id": "5sLC10D_oSrV"
      }
    },
    {
      "cell_type": "markdown",
      "source": [
        "Demuestra cómo se cumple la conservación de la masa en la siguiente reacción química. Sugerencia: hacer un balance estequiométrico y luego emplear la masa molecular de reactivos y productos."
      ],
      "metadata": {
        "id": "OVRhAzaVmD86"
      }
    },
    {
      "cell_type": "code",
      "source": [
        "SmilesDrawer(value=[(\"Rxn\", \"C(C1C(C(C(C(O1)O)O)O)O)O.O=O>>C(=O)=O.O\")], theme='dark', background=\"#1e1e1e\", options={'scale': 1.25})"
      ],
      "metadata": {
        "colab": {
          "base_uri": "https://localhost:8080/",
          "height": 289,
          "referenced_widgets": [
            "d4691835f4474884829213796343340f",
            "35b7ce94b6e84d4c985918e50984dcd7"
          ]
        },
        "outputId": "fb9a2a33-11fa-47cd-bffe-ce9c285db1d8",
        "id": "sH7H9RloUF43"
      },
      "execution_count": null,
      "outputs": [
        {
          "output_type": "display_data",
          "data": {
            "text/plain": [
              "SmilesDrawer(background='#1e1e1e', options={'scale': 1.25}, theme='dark', value=[('Rxn', 'C(C1C(C(C(C(O1)O)O)O…"
            ],
            "application/vnd.jupyter.widget-view+json": {
              "version_major": 2,
              "version_minor": 0,
              "model_id": "d4691835f4474884829213796343340f"
            }
          },
          "metadata": {
            "application/vnd.jupyter.widget-view+json": {
              "colab": {
                "custom_widget_manager": {
                  "url": "https://ssl.gstatic.com/colaboratory-static/widgets/colab-cdn-widget-manager/b3e629b1971e1542/manager.min.js"
                }
              }
            }
          }
        }
      ]
    },
    {
      "cell_type": "code",
      "source": [],
      "metadata": {
        "id": "-8hAGkCiUOFJ"
      },
      "execution_count": null,
      "outputs": []
    },
    {
      "cell_type": "markdown",
      "source": [
        "![Conservacion de la masa.png](data:image/png;base64,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)"
      ],
      "metadata": {
        "id": "aZF9lFQ5aOi9"
      }
    },
    {
      "cell_type": "markdown",
      "source": [
        "## Pregunta 4: Notación científica (4 puntos)"
      ],
      "metadata": {
        "id": "Rh-nAUiKhJNB"
      }
    },
    {
      "cell_type": "markdown",
      "source": [
        "Imprime las siguientes operaciones según la notación científica:\n",
        "\n",
        "(1) $1.321 \\times 10^{-4} + 8.5 \\times 10^{-2}$\n",
        "\n",
        "(2) $1.71 \\times 10^{3} - 2.01 \\times 10^{2}\\$\n",
        "\n",
        "(3) $(7.4 \\times 10^5)(7.2 \\times 10^4)$\n",
        "\n",
        "(4) $(7.4 \\times 10^5)/(7.2 \\times 10^4)$"
      ],
      "metadata": {
        "id": "NIkI45Xdqqnt"
      }
    },
    {
      "cell_type": "code",
      "source": [
        "# Operación 1) tienen que tener los mismos exponentes -4 y -2\n",
        "numero_a = 1.321 * 10**(-4) + 0.085 * 10**(-4)\n",
        "print(\"a) 1.321 x 10^-4 + 8.5 x 10^-2 =\", numero_a, \" o 1.406 * 10**(-4)\")\n",
        "\n",
        "# Operación 2)\n",
        "numero_b = 1.71 * 10**(3) - 2.01 * 10**(2)\n",
        "print(\"b) 1.71 x 10^3 - 2.01 x 10^2 =\", numero_b)\n",
        "\n",
        "# Operación 3) en la multiplicacion solo la efectuamos\n",
        "numero_c = (7.4 * 10**(5)) * (7.2 * 10**(4))\n",
        "print(\"c) (7.4 x 10^5)(7.2 x 10^4) =\", numero_c)\n",
        "\n",
        "# Operación 4)\n",
        "numero_d = (7.4 * 10**(5)) / (7.2 * 10**(4))\n",
        "print(\"d) (7.4 x 10^5) / (7.2 x 10^4) =\", numero_d)\n"
      ],
      "metadata": {
        "colab": {
          "base_uri": "https://localhost:8080/"
        },
        "id": "9MoTMLBxoc54",
        "outputId": "f3e054f1-8116-40da-8e35-781a2e40af0c"
      },
      "execution_count": 16,
      "outputs": [
        {
          "output_type": "stream",
          "name": "stdout",
          "text": [
            "a) 1.321 x 10^-4 + 8.5 x 10^-2 = 0.0001406  o 1.406 * 10**(-4)\n",
            "b) 1.71 x 10^3 - 2.01 x 10^2 = 1509.0\n",
            "c) (7.4 x 10^5)(7.2 x 10^4) = 53280000000.0\n",
            "d) (7.4 x 10^5) / (7.2 x 10^4) = 10.277777777777779\n"
          ]
        }
      ]
    },
    {
      "cell_type": "markdown",
      "source": [
        "## Pregunta 5: Método científico (4 puntos)"
      ],
      "metadata": {
        "id": "CuzCcXJghR14"
      }
    },
    {
      "cell_type": "markdown",
      "source": [
        "Artículo: https://bit.ly/3surZ1W\n",
        "Leer el siguiente artículo y explica cómo es aplicado el método científico. Emplea como máximo 300 palabras."
      ],
      "metadata": {
        "id": "WngRSR-Rhmx1"
      }
    },
    {
      "cell_type": "markdown",
      "source": [
        "Se utiliza el método científico para investigar y aclarar las propiedades de un material llamado LK-99 como pasos siguientes:\n",
        "\n",
        "Observación: La observación inicial del texto es que se afirmaba que LK-99 era un superconductor a temperatura ambiente, y se pregunta ¿es el LK-99 realmente un superconductor?\n",
        "\n",
        "Hipótesis: Se proponen varias hipótesis para explicar el comportamiento de LK-99, incluida la posibilidad de que sea efectivamente un superconductor o que otros factores sean responsables de sus propiedades.\n",
        "\n",
        "Experimentación: los científicos realizan experimentos y recopilan datos para probar estas hipótesis. Varios equipos de investigación intentan replicar las propiedades superconductoras supuestas de LK-99.\n",
        "\n",
        "Análisis: Los datos recopilados se analizan para sacar conclusiones. En este caso, los científicos descubrieron que LK-99 no exhibía un verdadero comportamiento superconductor, sino que mostraba propiedades similares a los superconductores debido a impurezas, particularmente sulfuro de cobre (Cu2S).\n",
        "\n",
        "Revisión: Los hallazgos se comparten con la comunidad científica a través de publicaciones en revistas como Nature y New England Journal of Medicine. Esto permite que otros expertos revisen y validen los resultados.\n",
        "\n",
        "Conclusión: Con base en la evidencia acumulada, la comunidad científica llega a un consenso de que LK-99 no es un superconductor a temperatura ambiente sino más bien un aislante con impurezas que afectan su comportamiento.\n"
      ],
      "metadata": {
        "id": "R3YQHOaShThU"
      }
    }
  ]
}