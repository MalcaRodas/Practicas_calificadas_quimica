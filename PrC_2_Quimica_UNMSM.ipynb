{
  "nbformat": 4,
  "nbformat_minor": 0,
  "metadata": {
    "colab": {
      "provenance": [],
      "include_colab_link": true
    },
    "kernelspec": {
      "name": "python3",
      "display_name": "Python 3"
    },
    "language_info": {
      "name": "python"
    },
    "widgets": {
      "application/vnd.jupyter.widget-state+json": {
        "f534de799b644da78a26101835ae8196": {
          "model_module": "faerun-notebook",
          "model_name": "SmilesDrawerModel",
          "model_module_version": "^0.1.5",
          "state": {
            "_dom_classes": [],
            "_model_module": "faerun-notebook",
            "_model_module_version": "^0.1.5",
            "_model_name": "SmilesDrawerModel",
            "_view_count": null,
            "_view_module": "faerun-notebook",
            "_view_module_version": "^0.1.5",
            "_view_name": "SmilesDrawerView",
            "background": "#1e1e1e",
            "border": true,
            "layout": "IPY_MODEL_84fdd4dbf5294e09b28a6da52c6edb8b",
            "options": {
              "scale": 1.25
            },
            "output": "svg",
            "theme": "dark",
            "value": [
              [
                "Rxn",
                "CC=CC.O=O>>C(=O)=O.O"
              ]
            ]
          }
        },
        "84fdd4dbf5294e09b28a6da52c6edb8b": {
          "model_module": "@jupyter-widgets/base",
          "model_name": "LayoutModel",
          "model_module_version": "1.2.0",
          "state": {
            "_model_module": "@jupyter-widgets/base",
            "_model_module_version": "1.2.0",
            "_model_name": "LayoutModel",
            "_view_count": null,
            "_view_module": "@jupyter-widgets/base",
            "_view_module_version": "1.2.0",
            "_view_name": "LayoutView",
            "align_content": null,
            "align_items": null,
            "align_self": null,
            "border": null,
            "bottom": null,
            "display": null,
            "flex": null,
            "flex_flow": null,
            "grid_area": null,
            "grid_auto_columns": null,
            "grid_auto_flow": null,
            "grid_auto_rows": null,
            "grid_column": null,
            "grid_gap": null,
            "grid_row": null,
            "grid_template_areas": null,
            "grid_template_columns": null,
            "grid_template_rows": null,
            "height": null,
            "justify_content": null,
            "justify_items": null,
            "left": null,
            "margin": null,
            "max_height": null,
            "max_width": null,
            "min_height": null,
            "min_width": null,
            "object_fit": null,
            "object_position": null,
            "order": null,
            "overflow": null,
            "overflow_x": null,
            "overflow_y": null,
            "padding": null,
            "right": null,
            "top": null,
            "visibility": null,
            "width": null
          }
        }
      }
    }
  },
  "cells": [
    {
      "cell_type": "markdown",
      "metadata": {
        "id": "view-in-github",
        "colab_type": "text"
      },
      "source": [
        "<a href=\"https://colab.research.google.com/github/MalcaRodas/Practicas_calificadas_quimica/blob/main/PrC_2_Quimica_UNMSM.ipynb\" target=\"_parent\"><img src=\"https://colab.research.google.com/assets/colab-badge.svg\" alt=\"Open In Colab\"/></a>"
      ]
    },
    {
      "cell_type": "markdown",
      "source": [
        "$$\\Large \\textit{UNMSM | Química}$$\n",
        "$$\\large \\textbf{PC Nº2 | Materia y clasificación}$$\n",
        "\n",
        "_Profesor: Jesus Alvarado Huayhuaz_"
      ],
      "metadata": {
        "id": "sDJAjbaQOj4x"
      }
    },
    {
      "cell_type": "markdown",
      "source": [
        "Todas las indicaciones para la presentación de la práctica son explicadas en clase y brindadas en el material de enunciado de preguntas en formato PDF."
      ],
      "metadata": {
        "id": "_DsTzWLoP7Fy"
      }
    },
    {
      "cell_type": "markdown",
      "source": [
        "## Pregunta 1: DataFrames y listas en python (4 puntos)"
      ],
      "metadata": {
        "id": "obD7c2igOD6t"
      }
    },
    {
      "cell_type": "markdown",
      "source": [
        "Usando PeriodicTable, crea una tabla con 20 elementos químicos y en las\n",
        "columnas considera: nombre, simbolo, masa_atomica, numero_atomico\ty valencias. Puedes ayudarte del siguiente [material](https://github.com/inefable12/UNMSM_quimica_2023/blob/main/Python_para_quimica_2023.ipynb)."
      ],
      "metadata": {
        "id": "gV4WKDa72eez"
      }
    },
    {
      "cell_type": "markdown",
      "source": [
        "## Pregunta 2: Configuración electrónica (4 puntos)"
      ],
      "metadata": {
        "id": "epzOadagLfPi"
      }
    },
    {
      "cell_type": "markdown",
      "source": [
        "Escribe un programa que lea el número atómico y me indique el número de electrones de valencia."
      ],
      "metadata": {
        "id": "MbAEOGPsjOWZ"
      }
    },
    {
      "cell_type": "code",
      "source": [
        "# Definimos un diccionario con la información de electrones de valencia de algunos elementos\n",
        "electrones_de_valencia = {\n",
        "    \"1\": 1,\n",
        "    \"2\": 2,\n",
        "    \"3\": 1,\n",
        "    \"4\": 2,\n",
        "    \"5\": 3,\n",
        "    \"6\": 4,\n",
        "    \"7\": 5,\n",
        "    \"8\": 6,\n",
        "    \"9\": 7,\n",
        "    \"10\": 8,\n",
        "\n",
        "}\n",
        "\n",
        "# Función para obtener el número de electrones de valencia de un elemento\n",
        "def obtener_electrones_de_valencia(elemento):\n",
        "    if elemento in electrones_de_valencia:\n",
        "        return electrones_de_valencia[elemento]\n",
        "    else:\n",
        "        return None\n",
        "\n",
        "# Solicitamos al usuario que ingrese el símbolo del elemento\n",
        "elemento = input(\"Ingresa el numero atomico del elemento químico: \")\n",
        "\n",
        "# Obtenemos el número de electrones de valencia llamando a la función\n",
        "electrones = obtener_electrones_de_valencia(elemento)\n",
        "\n",
        "# Verificamos si se encontró el elemento y mostramos el resultado\n",
        "if electrones is not None:\n",
        "    print(f\"El número de electrones de valencia de {elemento} es {electrones}.\")\n",
        "else:\n",
        "    print(f\"No se encontró información para el elemento {elemento}.\")\n"
      ],
      "metadata": {
        "id": "pcvmk9_EMtj8"
      },
      "execution_count": null,
      "outputs": []
    },
    {
      "cell_type": "markdown",
      "source": [
        "# Pregunta 3: Molecularidad & compuestos covalentes (4 puntos)"
      ],
      "metadata": {
        "id": "8gxSHpD3LZsh"
      }
    },
    {
      "cell_type": "code",
      "source": [
        "#Código necesario para generar la imagen, no editar\n",
        "!pip install faerun-notebook==0.1.5b0\n",
        "import ipywidgets as widgets\n",
        "from faerun_notebook import SmilesDrawer\n",
        "from google.colab import output\n",
        "output.enable_custom_widget_manager()"
      ],
      "metadata": {
        "id": "JgF8Ohtbky65"
      },
      "execution_count": null,
      "outputs": []
    },
    {
      "cell_type": "markdown",
      "source": [
        "Balancea la siguiente reacción química y asigna todos los subíndices o moleculariedad."
      ],
      "metadata": {
        "id": "5sLC10D_oSrV"
      }
    },
    {
      "cell_type": "code",
      "source": [
        "SmilesDrawer(value=[(\"Rxn\", \"CC=CC.O=O>>C(=O)=O.O\")], theme='dark', background=\"#1e1e1e\", options={'scale': 1.25})"
      ],
      "metadata": {
        "colab": {
          "base_uri": "https://localhost:8080/",
          "height": 140,
          "referenced_widgets": [
            "f534de799b644da78a26101835ae8196",
            "84fdd4dbf5294e09b28a6da52c6edb8b"
          ]
        },
        "id": "CC0mAXWmnYyN",
        "outputId": "b6624783-f658-4c9b-f740-2c61a0083191"
      },
      "execution_count": null,
      "outputs": [
        {
          "output_type": "display_data",
          "data": {
            "text/plain": [
              "SmilesDrawer(background='#1e1e1e', options={'scale': 1.25}, theme='dark', value=[('Rxn', 'CC=CC.O=O>>C(=O)=O.O…"
            ],
            "application/vnd.jupyter.widget-view+json": {
              "version_major": 2,
              "version_minor": 0,
              "model_id": "f534de799b644da78a26101835ae8196"
            }
          },
          "metadata": {
            "application/vnd.jupyter.widget-view+json": {
              "colab": {
                "custom_widget_manager": {
                  "url": "https://ssl.gstatic.com/colaboratory-static/widgets/colab-cdn-widget-manager/b3e629b1971e1542/manager.min.js"
                }
              }
            }
          }
        }
      ]
    },
    {
      "cell_type": "markdown",
      "source": [
        "![tttttt.png](data:image/png;base64,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)"
      ],
      "metadata": {
        "id": "hq9urOPTL4Av"
      }
    },
    {
      "cell_type": "code",
      "source": [
        "print(\"REACCIÓN DE COMBUSTIÓN DE\")\n",
        "print('--------------------------------')\n",
        "print('    1. Alcanos\\n    2. Alquenos\\n    3. Alquinos')\n",
        "print('--------------------------------')\n",
        "\n",
        "rxn = int(input('Indica el tipo de hidrocarburo: 1, 2 o 3: '))\n",
        "while (rxn != 1) and (rxn != 2) and (rxn != 3):\n",
        "    print(\"¡Ha escrito un número inválido! Inténtelo de nuevo\")\n",
        "    rxn = int(input('Indica el tipo de hidrocarburo: 1, 2 o 3: '))\n",
        "\n",
        "\n",
        "#función para usar subindice\n",
        "def get_sub(x):\n",
        "    normal = \"ABCDEFGHIJKLMNOPQRSTUVWXYZabcdefghijklmnopqrstuvwxyz0123456789+-=()\"\n",
        "    sub_s = \"ₐ₈CDₑբGₕᵢⱼₖₗₘₙₒₚQᵣₛₜᵤᵥwₓᵧZₐ♭꜀ᑯₑբ₉ₕᵢⱼₖₗₘₙₒₚ૧ᵣₛₜᵤᵥwₓᵧ₂₀₁₂₃₄₅₆₇₈₉₊₋₌₍₎\"\n",
        "    res = x.maketrans(''.join(normal), ''.join(sub_s))\n",
        "    return x.translate(res)\n",
        "\n",
        "\n",
        "if rxn == 1:\n",
        "    print(' ')\n",
        "    print('[Combustión de Alcanos]')\n",
        "    print('a C{}H{} + b O{} = c CO{} + d H{}O'.format(get_sub('n'),get_sub('2n+2'),get_sub('2'),get_sub('2'),get_sub('2')))\n",
        "elif rxn == 2:\n",
        "    print(' ')\n",
        "    print('[Combustión de Alquenos]')\n",
        "    print('a C{}H{} + b O{} = c CO{} + d H{}O'.format(get_sub('n'),get_sub('2n'),get_sub('2'),get_sub('2'),get_sub('2')))\n",
        "elif rxn == 3:\n",
        "    print(' ')\n",
        "    print('[Combustión de Alquinos]')\n",
        "    print('a C{}H{} + b O{} = c CO{} + d H{}O'.format(get_sub('n'),get_sub('2n-2'),get_sub('2'),get_sub('2'),get_sub('2')))\n",
        "if rxn == 1:\n",
        "    carbonos = int(input('Indica el número de carbonos en el alcano: '))\n",
        "    a = 1\n",
        "    b = (3*carbonos+1)/2\n",
        "    c = carbonos\n",
        "    d = carbonos+1\n",
        "    print(' ')\n",
        "    print('---ECUACIÓN BALANCEADA---')\n",
        "    print('C{}H{} + {} O{} = {} CO{} + {} H{}O'.\n",
        "          format(get_sub(str(carbonos)),get_sub(str(2*carbonos+2)),str(b),\n",
        "                 get_sub('2'),str(c),get_sub('2'),str(d),get_sub('2')))\n",
        "\n",
        "if rxn == 2:\n",
        "    carbonos = int(input('Indica el número de carbonos en el alqueno: '))\n",
        "    a = 1\n",
        "    b = (3*carbonos)/2\n",
        "    c = carbonos\n",
        "    d = carbonos\n",
        "    print(' ')\n",
        "    print('---ECUACIÓN BALANCEADA---')\n",
        "    print('C{}H{} + {} O{} = {} CO{} + {} H{}O'.\n",
        "          format(get_sub(str(carbonos)),get_sub(str(2*carbonos)),str(b),\n",
        "                 get_sub('2'),str(c),get_sub('2'),str(d),get_sub('2')))\n",
        "\n",
        "if rxn == 3:\n",
        "    carbonos = int(input('Indica el número de carbonos en el alquino: '))\n",
        "    a = 1\n",
        "    b = (3*carbonos-1)/2\n",
        "    c = carbonos\n",
        "    d = carbonos-1\n",
        "    print(' ')\n",
        "    print('---ECUACIÓN BALANCEADA---')\n",
        "    print('C{}H{} + {} O{} = {} CO{} + {} H{}O'.\n",
        "          format(get_sub(str(carbonos)),get_sub(str(2*carbonos-2)),str(b),\n",
        "                 get_sub('2'),str(c),get_sub('2'),str(d),get_sub('2')))"
      ],
      "metadata": {
        "id": "rsqLmrM8L517"
      },
      "execution_count": null,
      "outputs": []
    },
    {
      "cell_type": "markdown",
      "source": [
        "## Pregunta 4: SMILES, RDKit y Open Babel (4 puntos)"
      ],
      "metadata": {
        "id": "Rh-nAUiKhJNB"
      }
    },
    {
      "cell_type": "markdown",
      "source": [
        "Colecta la representación SMILES de 10 fármacos usando RDKit y preoptimiza sus estructuras."
      ],
      "metadata": {
        "id": "NIkI45Xdqqnt"
      }
    },
    {
      "cell_type": "markdown",
      "source": [
        "## Pregunta 5: Método científico (4 puntos)"
      ],
      "metadata": {
        "id": "CuzCcXJghR14"
      }
    },
    {
      "cell_type": "markdown",
      "source": [
        "Leer el artículo disponibilizado por el profesor y explica cómo es aplicado el método científico. Emplea como máximo 300 palabras."
      ],
      "metadata": {
        "id": "WngRSR-Rhmx1"
      }
    },
    {
      "cell_type": "markdown",
      "source": [
        "La metodología descrita en el texto se centra en enseñar a los estudiantes conceptos relacionados con la estructura atómica y las propiedades periódicas de los elementos químicos utilizando un enfoque práctico y didáctico.\n",
        "\n",
        "a. Cálculo de las Propiedades Periódicas: Comienza calculando dos propiedades periódicas, la energía de ionización y el radio atómico, para varios elementos químicos. Estos cálculos se basan en valores de referencia de la literatura y se normalizan para su posterior comparación.\n",
        "\n",
        "b. Modelo Didáctico con Cajas de Huevos: Se presenta un modelo didáctico en el que los estudiantes representan la estructura atómica utilizando cajas de huevos para el núcleo y subniveles energéticos. Se utilizan colores para diferenciar los subniveles y las bolas de ping-pong representan electrones.\n",
        "\n",
        "c. Cortes de Orbitales Electrónicos: Se cortan las cajas de huevos para modelar los orbitales electrónicos de los elementos seleccionados. Se muestran cómo se llenan los subniveles siguiendo reglas como el principio de Aufbau y la regla de Hund.\n",
        "\n",
        "d. Diagramas de Möeller de Configuración Electrónica: Se utilizan diagramas de Möeller y software llamado Orbital Viewer para visualizar y entender la configuración electrónica de los elementos.\n",
        "\n",
        "e. Pasaporte Atómico: Los estudiantes crean un \"pasaporte atómico\" para los primeros 10 elementos de la tabla periódica, que incluye información como números cuánticos, configuración electrónica y representación visual. Esto ayuda a los estudiantes a identificar los elementos.\n",
        "\n",
        "f. Evaluación del Aprendizaje: Los estudiantes trabajan en grupos y presentan sus modelos y pasaportes atómicos. Se les hacen preguntas evaluativas para evaluar su comprensión. Los resultados se cuantifican y analizan para evaluar el impacto del modelo didáctico en el aprendizaje.\n"
      ],
      "metadata": {
        "id": "1jC6FgwoSV4d"
      }
    }
  ]
}